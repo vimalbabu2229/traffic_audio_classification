{
 "cells": [
  {
   "cell_type": "markdown",
   "metadata": {},
   "source": [
    "# Automated Functionalities "
   ]
  },
  {
   "cell_type": "markdown",
   "metadata": {},
   "source": [
    "\n",
    "Below code  is an automated code that filters out the audio files into folders of each by checking the path.json file . It also changes the audio file name to  a unique id using the uuid "
   ]
  },
  {
   "cell_type": "code",
   "execution_count": 4,
   "metadata": {},
   "outputs": [],
   "source": [
    "# import json\n",
    "# import shutil\n",
    "# import uuid\n",
    "# import os\n",
    "\n",
    "# with open('media/path.json', 'r') as meta_data:\n",
    "#     data = json.load(meta_data)\n",
    "#     for item in data :\n",
    "#         file_name = uuid.uuid4()\n",
    "#         shutil.copy(item[\"audio\"],  f'traffic_dataset/{[\"idle\", \"light\", \"medium\", \"heavy\"][item[\"density\"]]}/{file_name}.wav')"
   ]
  },
  {
   "cell_type": "markdown",
   "metadata": {},
   "source": [
    "## Slice Files \n",
    "- Below code can be used to slice files into definend duration , to a specific class folder \n",
    "- In the input folder `BASE_INPUT_DIR` keep only files of a particular class and put the class name in the `CLASS_NAME` varibale. Files currently in the folder will be splitted down and store into a folder with the class name in the `BASE_OUTPUT_DIR`\n",
    "- Clear and load the `BASE_INPUT_DIR` with new files and also change the `CLASS_NAME` accodingly \n",
    "- **\\*\\*\\*\\*TRY NOT TO RUN THE CODE MULTIPLE TIMES WITH SAME INPUT FILES\\*\\*\\*\\*** - it will create multiple files of the same audio "
   ]
  },
  {
   "cell_type": "code",
   "execution_count": 8,
   "metadata": {},
   "outputs": [],
   "source": [
    "import os\n",
    "import librosa\n",
    "import soundfile as sf\n",
    "import uuid\n",
    "import shutil\n",
    "\n",
    "def slice_files(BASE_INPUT_DIR, BASE_OUTPUT_DIR, SLICE_LENGHT=5):\n",
    "    # list files in the input directory \n",
    "    files = [f for f in os.listdir(BASE_INPUT_DIR) if f.endswith('.wav')]\n",
    "    # create a folder in the name of class if it is not present \n",
    "    if not os.path.exists(f\"{BASE_OUTPUT_DIR}\"):\n",
    "        os.mkdir(f\"{BASE_OUTPUT_DIR}\")\n",
    "    # Create a backup folder for clean up if it is not present \n",
    "    if not os.path.exists(\"backup\"):\n",
    "        os.mkdir(\"backup\")\n",
    "\n",
    "    # slice\n",
    "    for file in files:\n",
    "        data,sr = librosa.load(f\"{BASE_INPUT_DIR}/{file}\")\n",
    "        if 'idle' in file:\n",
    "            CLASS_NAME = 'idle'\n",
    "        elif 'light' in file:\n",
    "            CLASS_NAME = 'light'\n",
    "        elif 'medium' in file:\n",
    "            CLASS_NAME = 'medium'\n",
    "        elif 'heavy' in file:\n",
    "            CLASS_NAME = 'heavy'\n",
    "        else:\n",
    "            continue\n",
    "\n",
    "        for i in range(0, len(data), (sr*SLICE_LENGHT)):\n",
    "            slice = data[i:(i+(sr*SLICE_LENGHT))]\n",
    "            file_name = uuid.uuid4() # create a unque id for the files \n",
    "            sf.write(f\"{BASE_OUTPUT_DIR}/{CLASS_NAME}/{file_name}.wav\", slice, sr)\n",
    "        \n",
    "        # clean up the processed files to avoid uncessessory errors \n",
    "        shutil.move(f\"{BASE_INPUT_DIR}/{file}\", \"backup\")\n",
    "\n",
    "\n",
    "if __name__ == \"__main__\":\n",
    "\n",
    "    BASE_INPUT_DIR = \"../full_audio_files\" # audio files that are not processed\n",
    "    BASE_OUTPUT_DIR = \"traffic_dataset\" # output base path \n",
    "    # CLASS_NAME = \"medium\" \n",
    "    SLICE_LENGHT = 5 # define the slice duration in seconds\n",
    "    slice_files(BASE_INPUT_DIR, BASE_OUTPUT_DIR, SLICE_LENGHT)"
   ]
  },
  {
   "cell_type": "markdown",
   "metadata": {},
   "source": [
    "## Importing Model For testing"
   ]
  },
  {
   "cell_type": "code",
   "execution_count": 9,
   "metadata": {},
   "outputs": [],
   "source": [
    "import librosa\n",
    "import numpy as np\n",
    "def extract_features(y, sr):\n",
    "    \n",
    "    mfccs = librosa.feature.mfcc(y=y, sr=sr, n_mfcc=13)\n",
    "    spectral_centroid = librosa.feature.spectral_centroid(y=y, sr=sr)[0]\n",
    "    spectral_rolloff = librosa.feature.spectral_rolloff(y=y, sr=sr)[0]\n",
    "    zcr = librosa.feature.zero_crossing_rate(y)[0]\n",
    "    rmse = librosa.feature.rms(y=y)[0]\n",
    "    \n",
    "    features = np.hstack((np.mean(mfccs, axis=1), \n",
    "                          np.mean(spectral_centroid), \n",
    "                          np.mean(spectral_rolloff), \n",
    "                          np.mean(zcr), \n",
    "                          np.mean(rmse)))\n",
    "    return features\n"
   ]
  },
  {
   "cell_type": "code",
   "execution_count": 16,
   "metadata": {},
   "outputs": [
    {
     "data": {
      "text/plain": [
       "'medium'"
      ]
     },
     "execution_count": 16,
     "metadata": {},
     "output_type": "execute_result"
    }
   ],
   "source": [
    "import pickle\n",
    "\n",
    "file_path = \"../full_audio_files/test/light, main gate  22 Mar, 10.12 AM.wav\"\n",
    "with open('model.pkl', 'rb') as file:\n",
    "    loaded_model = pickle.load(file)\n",
    "\n",
    "with open(\"label_encoder.pkl\", 'rb') as file :\n",
    "    loaded_label = pickle.load(file)\n",
    "\n",
    "# extract features of input file to predict \n",
    "test_data = []\n",
    "data, sr = librosa.load(file_path, sr=8000)\n",
    "for i in range(0, len(data), (sr*5)):\n",
    "    test_data.append(extract_features(data[i:(i+(sr*5))], sr))\n",
    "\n",
    "# prediction\n",
    "preds = loaded_model.predict(test_data)\n",
    "aggregate_class_index = round(np.mean(preds))\n",
    "forecast = loaded_label.inverse_transform([aggregate_class_index])[0]\n",
    "forecast"
   ]
  }
 ],
 "metadata": {
  "kernelspec": {
   "display_name": "_virtual",
   "language": "python",
   "name": "python3"
  },
  "language_info": {
   "codemirror_mode": {
    "name": "ipython",
    "version": 3
   },
   "file_extension": ".py",
   "mimetype": "text/x-python",
   "name": "python",
   "nbconvert_exporter": "python",
   "pygments_lexer": "ipython3",
   "version": "3.11.8"
  }
 },
 "nbformat": 4,
 "nbformat_minor": 2
}
